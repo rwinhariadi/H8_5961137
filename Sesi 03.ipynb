{
 "cells": [
  {
   "cell_type": "code",
   "execution_count": 4,
   "id": "7def038e",
   "metadata": {},
   "outputs": [],
   "source": [
    "def function_name (parameters):\n",
    "    \"docstring\"\n",
    "    statement(s)"
   ]
  },
  {
   "cell_type": "code",
   "execution_count": 5,
   "id": "1fcd3f87",
   "metadata": {},
   "outputs": [
    {
     "name": "stdout",
     "output_type": "stream",
     "text": [
      "8\n"
     ]
    }
   ],
   "source": [
    "def my_function(p,l):\n",
    "    \"Function menghitung luas\"\n",
    "    print(p * l)\n",
    "my_function(2,4)"
   ]
  },
  {
   "cell_type": "code",
   "execution_count": 6,
   "id": "a2c7e804",
   "metadata": {},
   "outputs": [],
   "source": [
    "def printme(str):\n",
    "    \"This print a passed string into this function\"\n",
    "    print(str)\n",
    "    return"
   ]
  },
  {
   "cell_type": "code",
   "execution_count": 7,
   "id": "ef58fcff",
   "metadata": {},
   "outputs": [
    {
     "name": "stdout",
     "output_type": "stream",
     "text": [
      "i'm first call to user defined function!\n",
      "again second call to the same function\n"
     ]
    }
   ],
   "source": [
    "printme(\"i'm first call to user defined function!\")\n",
    "printme(\"again second call to the same function\")"
   ]
  },
  {
   "cell_type": "code",
   "execution_count": 9,
   "id": "f942e002",
   "metadata": {},
   "outputs": [
    {
     "name": "stdout",
     "output_type": "stream",
     "text": [
      "Values inside the function:  [10, 20, 30, [1, 2, 3, 4]]\n",
      "Values outside the function:  [10, 20, 30, [1, 2, 3, 4]]\n"
     ]
    }
   ],
   "source": [
    "def changeme(mylist):\n",
    "    \"This changes a passed list into this function\"\n",
    "    myList.append([1,2,3,4])\n",
    "    print(\"Values inside the function: \",myList)\n",
    "    return\n",
    "myList = [10,20,30];\n",
    "changeme(myList)\n",
    "print(\"Values outside the function: \", myList)"
   ]
  },
  {
   "cell_type": "code",
   "execution_count": 10,
   "id": "e534591b",
   "metadata": {},
   "outputs": [
    {
     "name": "stdout",
     "output_type": "stream",
     "text": [
      "Values inside the function:  [1, 2, 3, 4]\n",
      "Values outside the function:  [10, 20, 30]\n"
     ]
    }
   ],
   "source": [
    "def changeme(mylist):\n",
    "    \"This changes a passed list into this function\"\n",
    "    myList=[1,2,3,4] #new list reference\n",
    "    print(\"Values inside the function: \",myList)\n",
    "    return\n",
    "myList = [10,20,30];\n",
    "changeme(myList)\n",
    "print(\"Values outside the function: \", myList)"
   ]
  },
  {
   "cell_type": "code",
   "execution_count": 11,
   "id": "6948485b",
   "metadata": {},
   "outputs": [
    {
     "ename": "TypeError",
     "evalue": "printme() missing 1 required positional argument: 'str'",
     "output_type": "error",
     "traceback": [
      "\u001b[1;31m---------------------------------------------------------------------------\u001b[0m",
      "\u001b[1;31mTypeError\u001b[0m                                 Traceback (most recent call last)",
      "\u001b[1;32mC:\\Users\\ACERNI~1\\AppData\\Local\\Temp/ipykernel_21408/976781699.py\u001b[0m in \u001b[0;36m<module>\u001b[1;34m\u001b[0m\n\u001b[0;32m      3\u001b[0m     \u001b[0mprint\u001b[0m\u001b[1;33m(\u001b[0m\u001b[0mstr\u001b[0m\u001b[1;33m)\u001b[0m\u001b[1;33m\u001b[0m\u001b[1;33m\u001b[0m\u001b[0m\n\u001b[0;32m      4\u001b[0m     \u001b[1;32mreturn\u001b[0m\u001b[1;33m\u001b[0m\u001b[1;33m\u001b[0m\u001b[0m\n\u001b[1;32m----> 5\u001b[1;33m \u001b[0mprintme\u001b[0m\u001b[1;33m(\u001b[0m\u001b[1;33m)\u001b[0m\u001b[1;33m\u001b[0m\u001b[1;33m\u001b[0m\u001b[0m\n\u001b[0m",
      "\u001b[1;31mTypeError\u001b[0m: printme() missing 1 required positional argument: 'str'"
     ]
    }
   ],
   "source": [
    "def printme(str):\n",
    "    \"This print a passed string into this function\"\n",
    "    print(str)\n",
    "    return\n",
    "printme()"
   ]
  },
  {
   "cell_type": "code",
   "execution_count": 12,
   "id": "c2045a5c",
   "metadata": {},
   "outputs": [
    {
     "name": "stdout",
     "output_type": "stream",
     "text": [
      "Erwin Hariadi\n"
     ]
    }
   ],
   "source": [
    "def printme(str):\n",
    "    \"This print a passed string into this function\"\n",
    "    print(str)\n",
    "    return\n",
    "printme(str = \"Erwin Hariadi\")"
   ]
  },
  {
   "cell_type": "code",
   "execution_count": 17,
   "id": "b644c17d",
   "metadata": {},
   "outputs": [
    {
     "name": "stdout",
     "output_type": "stream",
     "text": [
      "Name:  Erwin Hariadi\n",
      "Age:  100\n",
      "Name:  Erwin Hariadi\n",
      "Age:  100\n"
     ]
    }
   ],
   "source": [
    "def printinfo(name, age):\n",
    "    \"This prints a passed info into this function\"\n",
    "    print(\"Name: \", name)\n",
    "    print(\"Age: \", age)\n",
    "    return\n",
    "\n",
    "#cara 1\n",
    "printinfo(age=100, name=\"Erwin Hariadi\")\n",
    "#cara 2\n",
    "printinfo(\"Erwin Hariadi\", 100)"
   ]
  },
  {
   "cell_type": "code",
   "execution_count": 18,
   "id": "17f352ca",
   "metadata": {},
   "outputs": [
    {
     "name": "stdout",
     "output_type": "stream",
     "text": [
      "Name:  Erwin Hariadi\n",
      "Age:  100\n",
      "Name:  Erwin Hariadi\n",
      "Age:  50\n"
     ]
    }
   ],
   "source": [
    "def printinfo(name, age = 50):\n",
    "    \"This prints a passed info into this function\"\n",
    "    print(\"Name: \", name)\n",
    "    print(\"Age: \", age)\n",
    "    return\n",
    "\n",
    "#cara 1\n",
    "printinfo(age=100, name=\"Erwin Hariadi\")\n",
    "#cara 2\n",
    "printinfo(\"Erwin Hariadi\")"
   ]
  },
  {
   "cell_type": "code",
   "execution_count": 25,
   "id": "f7ee8925",
   "metadata": {},
   "outputs": [
    {
     "name": "stdout",
     "output_type": "stream",
     "text": [
      "Output: \n",
      "5\n",
      "Output: \n",
      "1\n",
      "2\n",
      "3\n",
      "abc\n"
     ]
    }
   ],
   "source": [
    "def printinfo(arg1, *vartuple):\n",
    "    \"This prints a variable passed arguments\"\n",
    "    print(\"Output: \")\n",
    "    print(arg1)\n",
    "    for var in vartuple:\n",
    "        print(var)\n",
    "    return\n",
    "printinfo(5)\n",
    "printinfo(1,2,3,\"abc\")"
   ]
  },
  {
   "cell_type": "code",
   "execution_count": 43,
   "id": "98bfde19",
   "metadata": {},
   "outputs": [
    {
     "name": "stdout",
     "output_type": "stream",
     "text": [
      "Inside Function:  30\n",
      "Outside Function:  40\n"
     ]
    }
   ],
   "source": [
    "total = 0\n",
    "\n",
    "def sum(arg1, arg2):\n",
    "    total = arg1 + arg2\n",
    "    total2 = total + arg1\n",
    "    print(\"Inside Function: \", total)\n",
    "    return total2\n",
    "total = sum(10,20)\n",
    "print(\"Outside Function: \", total)"
   ]
  },
  {
   "cell_type": "code",
   "execution_count": 51,
   "id": "633339aa",
   "metadata": {},
   "outputs": [
    {
     "name": "stdout",
     "output_type": "stream",
     "text": [
      "Erwin\n",
      "arg = ['a', 'b']\n"
     ]
    }
   ],
   "source": [
    "import mod\n",
    "print(mod.s)\n",
    "mod.a\n",
    "mod.foo([\"a\",\"b\"])"
   ]
  },
  {
   "cell_type": "code",
   "execution_count": 54,
   "id": "4930d9d0",
   "metadata": {},
   "outputs": [
    {
     "data": {
      "text/plain": [
       "['C:\\\\Users\\\\ACER NITRO 5\\\\Documents\\\\Studi Independen\\\\gitToday',\n",
       " 'C:\\\\Users\\\\ACER NITRO 5\\\\anaconda3\\\\python39.zip',\n",
       " 'C:\\\\Users\\\\ACER NITRO 5\\\\anaconda3\\\\DLLs',\n",
       " 'C:\\\\Users\\\\ACER NITRO 5\\\\anaconda3\\\\lib',\n",
       " 'C:\\\\Users\\\\ACER NITRO 5\\\\anaconda3',\n",
       " '',\n",
       " 'C:\\\\Users\\\\ACER NITRO 5\\\\AppData\\\\Roaming\\\\Python\\\\Python39\\\\site-packages',\n",
       " 'C:\\\\Users\\\\ACER NITRO 5\\\\anaconda3\\\\lib\\\\site-packages',\n",
       " 'C:\\\\Users\\\\ACER NITRO 5\\\\anaconda3\\\\lib\\\\site-packages\\\\locket-0.2.1-py3.9.egg',\n",
       " 'C:\\\\Users\\\\ACER NITRO 5\\\\anaconda3\\\\lib\\\\site-packages\\\\win32',\n",
       " 'C:\\\\Users\\\\ACER NITRO 5\\\\anaconda3\\\\lib\\\\site-packages\\\\win32\\\\lib',\n",
       " 'C:\\\\Users\\\\ACER NITRO 5\\\\anaconda3\\\\lib\\\\site-packages\\\\Pythonwin',\n",
       " 'C:\\\\Users\\\\ACER NITRO 5\\\\anaconda3\\\\lib\\\\site-packages\\\\IPython\\\\extensions',\n",
       " 'C:\\\\Users\\\\ACER NITRO 5\\\\.ipython']"
      ]
     },
     "execution_count": 54,
     "metadata": {},
     "output_type": "execute_result"
    }
   ],
   "source": [
    "import sys\n",
    "sys.path"
   ]
  },
  {
   "cell_type": "code",
   "execution_count": 56,
   "id": "125b508c",
   "metadata": {},
   "outputs": [
    {
     "data": {
      "text/plain": [
       "[1, 2, 3]"
      ]
     },
     "execution_count": 56,
     "metadata": {},
     "output_type": "execute_result"
    }
   ],
   "source": [
    "import mod as my_module\n",
    "my_module.a"
   ]
  },
  {
   "cell_type": "code",
   "execution_count": 58,
   "id": "fb626b09",
   "metadata": {},
   "outputs": [
    {
     "name": "stdout",
     "output_type": "stream",
     "text": [
      "arg = corge\n"
     ]
    }
   ],
   "source": [
    "def bar():\n",
    "    from mod import foo\n",
    "    foo('corge')\n",
    "bar()"
   ]
  },
  {
   "cell_type": "code",
   "execution_count": 61,
   "id": "a6f95a88",
   "metadata": {},
   "outputs": [
    {
     "name": "stdout",
     "output_type": "stream",
     "text": [
      "Module Not Found\n"
     ]
    }
   ],
   "source": [
    "try:\n",
    "    import baz\n",
    "except ImportError:\n",
    "    print(\"Module Not Found\")"
   ]
  },
  {
   "cell_type": "code",
   "execution_count": 64,
   "id": "0007bd1c",
   "metadata": {},
   "outputs": [
    {
     "name": "stdout",
     "output_type": "stream",
     "text": [
      "arg = grault\n"
     ]
    }
   ],
   "source": [
    "mod.foo('grault')"
   ]
  },
  {
   "cell_type": "code",
   "execution_count": 66,
   "id": "45203e34",
   "metadata": {},
   "outputs": [
    {
     "data": {
      "text/plain": [
       "120"
      ]
     },
     "execution_count": 66,
     "metadata": {},
     "output_type": "execute_result"
    }
   ],
   "source": [
    "from fact import fact\n",
    "fact(5)"
   ]
  },
  {
   "cell_type": "code",
   "execution_count": 68,
   "id": "4e1607b3",
   "metadata": {},
   "outputs": [
    {
     "name": "stdout",
     "output_type": "stream",
     "text": [
      "[mod1] foo()\n",
      "[mod1] bar()\n"
     ]
    }
   ],
   "source": [
    "import pkg.mod1, pkg.mod2\n",
    "pkg.mod1.foo()\n",
    "pkg.mod2.bar()"
   ]
  },
  {
   "cell_type": "code",
   "execution_count": 75,
   "id": "aa102ba7",
   "metadata": {},
   "outputs": [
    {
     "name": "stdout",
     "output_type": "stream",
     "text": [
      "Response returned: 200,OK\n"
     ]
    }
   ],
   "source": [
    "import requests\n",
    "\n",
    "url = 'https://www.google.com'\n",
    "response = requests.get(url)\n",
    "print(f'Response returned: {response.status_code},{response.reason}')\n"
   ]
  },
  {
   "cell_type": "code",
   "execution_count": null,
   "id": "885185a6",
   "metadata": {},
   "outputs": [],
   "source": []
  }
 ],
 "metadata": {
  "kernelspec": {
   "display_name": "Python 3 (ipykernel)",
   "language": "python",
   "name": "python3"
  },
  "language_info": {
   "codemirror_mode": {
    "name": "ipython",
    "version": 3
   },
   "file_extension": ".py",
   "mimetype": "text/x-python",
   "name": "python",
   "nbconvert_exporter": "python",
   "pygments_lexer": "ipython3",
   "version": "3.9.7"
  }
 },
 "nbformat": 4,
 "nbformat_minor": 5
}
